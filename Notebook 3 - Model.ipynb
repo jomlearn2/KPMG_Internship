{
 "cells": [
  {
   "cell_type": "code",
   "execution_count": 1,
   "metadata": {},
   "outputs": [],
   "source": [
    "import pandas as pd\n",
    "import matplotlib.pyplot as plt\n",
    "%matplotlib inline\n",
    "import numpy as np\n",
    "import seaborn as sns\n",
    "\n",
    "from bioinfokit.analys import stat\n",
    "from sklearn.preprocessing import StandardScaler\n",
    "from sklearn.cluster import KMeans\n",
    "from kmodes.kmodes import KModes\n",
    "from kmodes.kprototypes import KPrototypes\n",
    "from sklearn.decomposition import PCA\n",
    "np.random.seed(123)\n",
    "\n",
    "import warnings\n",
    "warnings.filterwarnings('ignore')"
   ]
  },
  {
   "cell_type": "code",
   "execution_count": 2,
   "metadata": {},
   "outputs": [],
   "source": [
    "file = pd.ExcelFile('Cleaned.xlsx')\n",
    "df1 = pd.read_excel(file, 'Transactions')\n",
    "df2 = pd.read_excel(file, 'CustDemo')\n",
    "df3 = pd.read_excel(file, 'NewCust')\n",
    "df4 = pd.read_excel(file, 'CustAddresses')"
   ]
  },
  {
   "cell_type": "code",
   "execution_count": 3,
   "metadata": {},
   "outputs": [],
   "source": [
    "df = df1.join(df2, how='left', on='customer_id', rsuffix='_cd')\n",
    "df = df.join(df4, how='left', on='customer_id', rsuffix='_add')"
   ]
  },
  {
   "cell_type": "code",
   "execution_count": 4,
   "metadata": {},
   "outputs": [
    {
     "data": {
      "text/plain": [
       "Index(['transaction_id', 'product_id', 'customer_id', 'transaction_date',\n",
       "       'online_order', 'order_status', 'brand', 'product_line',\n",
       "       'product_class', 'product_size', 'list_price', 'standard_cost',\n",
       "       'product_first_sold_date', 'season', 'Sale_revenue', 'customer_id_cd',\n",
       "       'first_name', 'last_name', 'gender',\n",
       "       'past_3_years_bike_related_purchases', 'DOB', 'job_title',\n",
       "       'job_industry_category', 'wealth_segment', 'deceased_indicator',\n",
       "       'owns_car', 'tenure', 'age', 'agebin', 'customer_id_add', 'address',\n",
       "       'postcode', 'state', 'country', 'property_valuation', 'metro'],\n",
       "      dtype='object')"
      ]
     },
     "execution_count": 4,
     "metadata": {},
     "output_type": "execute_result"
    }
   ],
   "source": [
    "df.columns"
   ]
  },
  {
   "cell_type": "code",
   "execution_count": 5,
   "metadata": {},
   "outputs": [],
   "source": [
    "df = df[['customer_id', 'online_order', 'brand', 'product_line', 'product_class', 'product_size', 'list_price', 'standard_cost',\n",
    "         'season', 'Sale_revenue', 'gender', 'past_3_years_bike_related_purchases', 'job_industry_category', 'wealth_segment', \n",
    "         'owns_car', 'tenure', 'age', 'agebin', 'postcode', 'state', 'property_valuation', 'metro']]"
   ]
  },
  {
   "cell_type": "code",
   "execution_count": 6,
   "metadata": {},
   "outputs": [
    {
     "name": "stdout",
     "output_type": "stream",
     "text": [
      "<class 'pandas.core.frame.DataFrame'>\n",
      "Int64Index: 19625 entries, 0 to 19999\n",
      "Data columns (total 22 columns):\n",
      "customer_id                            19625 non-null int64\n",
      "online_order                           19273 non-null float64\n",
      "brand                                  19625 non-null object\n",
      "product_line                           19625 non-null object\n",
      "product_class                          19625 non-null object\n",
      "product_size                           19625 non-null object\n",
      "list_price                             19625 non-null float64\n",
      "standard_cost                          19625 non-null float64\n",
      "season                                 19625 non-null object\n",
      "Sale_revenue                           19625 non-null float64\n",
      "gender                                 19121 non-null object\n",
      "past_3_years_bike_related_purchases    19121 non-null float64\n",
      "job_industry_category                  15930 non-null object\n",
      "wealth_segment                         19121 non-null object\n",
      "owns_car                               19121 non-null object\n",
      "tenure                                 19121 non-null float64\n",
      "age                                    19121 non-null float64\n",
      "agebin                                 19121 non-null object\n",
      "postcode                               19622 non-null float64\n",
      "state                                  19622 non-null object\n",
      "property_valuation                     19622 non-null float64\n",
      "metro                                  19622 non-null float64\n",
      "dtypes: float64(10), int64(1), object(11)\n",
      "memory usage: 3.4+ MB\n"
     ]
    }
   ],
   "source": [
    "df.info()"
   ]
  },
  {
   "cell_type": "code",
   "execution_count": 7,
   "metadata": {},
   "outputs": [
    {
     "data": {
      "text/html": [
       "<div>\n",
       "<style scoped>\n",
       "    .dataframe tbody tr th:only-of-type {\n",
       "        vertical-align: middle;\n",
       "    }\n",
       "\n",
       "    .dataframe tbody tr th {\n",
       "        vertical-align: top;\n",
       "    }\n",
       "\n",
       "    .dataframe thead th {\n",
       "        text-align: right;\n",
       "    }\n",
       "</style>\n",
       "<table border=\"1\" class=\"dataframe\">\n",
       "  <thead>\n",
       "    <tr style=\"text-align: right;\">\n",
       "      <th></th>\n",
       "      <th>customer_id</th>\n",
       "      <th>online_order</th>\n",
       "      <th>list_price</th>\n",
       "      <th>standard_cost</th>\n",
       "      <th>Sale_revenue</th>\n",
       "      <th>past_3_years_bike_related_purchases</th>\n",
       "      <th>tenure</th>\n",
       "      <th>age</th>\n",
       "      <th>postcode</th>\n",
       "      <th>property_valuation</th>\n",
       "      <th>metro</th>\n",
       "      <th>profit_margin</th>\n",
       "      <th>avg_cust_pm</th>\n",
       "    </tr>\n",
       "  </thead>\n",
       "  <tbody>\n",
       "    <tr>\n",
       "      <th>count</th>\n",
       "      <td>19625.000000</td>\n",
       "      <td>19273.000000</td>\n",
       "      <td>19625.000000</td>\n",
       "      <td>19625.000000</td>\n",
       "      <td>19625.000000</td>\n",
       "      <td>19121.000000</td>\n",
       "      <td>19121.000000</td>\n",
       "      <td>19121.000000</td>\n",
       "      <td>19622.000000</td>\n",
       "      <td>19622.000000</td>\n",
       "      <td>19622.000000</td>\n",
       "      <td>19625.000000</td>\n",
       "      <td>19625.000000</td>\n",
       "    </tr>\n",
       "    <tr>\n",
       "      <th>mean</th>\n",
       "      <td>1739.572994</td>\n",
       "      <td>0.500285</td>\n",
       "      <td>1107.744983</td>\n",
       "      <td>555.821210</td>\n",
       "      <td>551.923772</td>\n",
       "      <td>49.161602</td>\n",
       "      <td>10.703363</td>\n",
       "      <td>42.480989</td>\n",
       "      <td>2990.154928</td>\n",
       "      <td>7.543879</td>\n",
       "      <td>0.767353</td>\n",
       "      <td>0.446117</td>\n",
       "      <td>0.446117</td>\n",
       "    </tr>\n",
       "    <tr>\n",
       "      <th>std</th>\n",
       "      <td>1011.957495</td>\n",
       "      <td>0.500013</td>\n",
       "      <td>582.989189</td>\n",
       "      <td>405.977243</td>\n",
       "      <td>493.502909</td>\n",
       "      <td>28.463173</td>\n",
       "      <td>5.676916</td>\n",
       "      <td>12.602628</td>\n",
       "      <td>853.585870</td>\n",
       "      <td>2.820612</td>\n",
       "      <td>0.422530</td>\n",
       "      <td>0.264268</td>\n",
       "      <td>0.114344</td>\n",
       "    </tr>\n",
       "    <tr>\n",
       "      <th>min</th>\n",
       "      <td>1.000000</td>\n",
       "      <td>0.000000</td>\n",
       "      <td>12.010000</td>\n",
       "      <td>7.210000</td>\n",
       "      <td>4.800000</td>\n",
       "      <td>0.000000</td>\n",
       "      <td>1.000000</td>\n",
       "      <td>18.000000</td>\n",
       "      <td>2000.000000</td>\n",
       "      <td>1.000000</td>\n",
       "      <td>0.000000</td>\n",
       "      <td>0.072214</td>\n",
       "      <td>0.072214</td>\n",
       "    </tr>\n",
       "    <tr>\n",
       "      <th>25%</th>\n",
       "      <td>858.000000</td>\n",
       "      <td>0.000000</td>\n",
       "      <td>575.270000</td>\n",
       "      <td>215.140000</td>\n",
       "      <td>133.780000</td>\n",
       "      <td>25.000000</td>\n",
       "      <td>6.000000</td>\n",
       "      <td>33.000000</td>\n",
       "      <td>2200.000000</td>\n",
       "      <td>6.000000</td>\n",
       "      <td>1.000000</td>\n",
       "      <td>0.249973</td>\n",
       "      <td>0.366861</td>\n",
       "    </tr>\n",
       "    <tr>\n",
       "      <th>50%</th>\n",
       "      <td>1737.000000</td>\n",
       "      <td>1.000000</td>\n",
       "      <td>1163.890000</td>\n",
       "      <td>507.580000</td>\n",
       "      <td>445.210000</td>\n",
       "      <td>48.000000</td>\n",
       "      <td>11.000000</td>\n",
       "      <td>43.000000</td>\n",
       "      <td>2767.000000</td>\n",
       "      <td>8.000000</td>\n",
       "      <td>1.000000</td>\n",
       "      <td>0.399998</td>\n",
       "      <td>0.441426</td>\n",
       "    </tr>\n",
       "    <tr>\n",
       "      <th>75%</th>\n",
       "      <td>2615.000000</td>\n",
       "      <td>1.000000</td>\n",
       "      <td>1635.300000</td>\n",
       "      <td>795.100000</td>\n",
       "      <td>830.240000</td>\n",
       "      <td>73.000000</td>\n",
       "      <td>15.000000</td>\n",
       "      <td>52.000000</td>\n",
       "      <td>3775.000000</td>\n",
       "      <td>10.000000</td>\n",
       "      <td>1.000000</td>\n",
       "      <td>0.676080</td>\n",
       "      <td>0.518660</td>\n",
       "    </tr>\n",
       "    <tr>\n",
       "      <th>max</th>\n",
       "      <td>5034.000000</td>\n",
       "      <td>1.000000</td>\n",
       "      <td>2091.470000</td>\n",
       "      <td>1759.850000</td>\n",
       "      <td>1702.550000</td>\n",
       "      <td>99.000000</td>\n",
       "      <td>22.000000</td>\n",
       "      <td>88.000000</td>\n",
       "      <td>4883.000000</td>\n",
       "      <td>12.000000</td>\n",
       "      <td>1.000000</td>\n",
       "      <td>0.989604</td>\n",
       "      <td>0.989604</td>\n",
       "    </tr>\n",
       "  </tbody>\n",
       "</table>\n",
       "</div>"
      ],
      "text/plain": [
       "        customer_id  online_order    list_price  standard_cost  Sale_revenue  \\\n",
       "count  19625.000000  19273.000000  19625.000000   19625.000000  19625.000000   \n",
       "mean    1739.572994      0.500285   1107.744983     555.821210    551.923772   \n",
       "std     1011.957495      0.500013    582.989189     405.977243    493.502909   \n",
       "min        1.000000      0.000000     12.010000       7.210000      4.800000   \n",
       "25%      858.000000      0.000000    575.270000     215.140000    133.780000   \n",
       "50%     1737.000000      1.000000   1163.890000     507.580000    445.210000   \n",
       "75%     2615.000000      1.000000   1635.300000     795.100000    830.240000   \n",
       "max     5034.000000      1.000000   2091.470000    1759.850000   1702.550000   \n",
       "\n",
       "       past_3_years_bike_related_purchases        tenure           age  \\\n",
       "count                         19121.000000  19121.000000  19121.000000   \n",
       "mean                             49.161602     10.703363     42.480989   \n",
       "std                              28.463173      5.676916     12.602628   \n",
       "min                               0.000000      1.000000     18.000000   \n",
       "25%                              25.000000      6.000000     33.000000   \n",
       "50%                              48.000000     11.000000     43.000000   \n",
       "75%                              73.000000     15.000000     52.000000   \n",
       "max                              99.000000     22.000000     88.000000   \n",
       "\n",
       "           postcode  property_valuation         metro  profit_margin  \\\n",
       "count  19622.000000        19622.000000  19622.000000   19625.000000   \n",
       "mean    2990.154928            7.543879      0.767353       0.446117   \n",
       "std      853.585870            2.820612      0.422530       0.264268   \n",
       "min     2000.000000            1.000000      0.000000       0.072214   \n",
       "25%     2200.000000            6.000000      1.000000       0.249973   \n",
       "50%     2767.000000            8.000000      1.000000       0.399998   \n",
       "75%     3775.000000           10.000000      1.000000       0.676080   \n",
       "max     4883.000000           12.000000      1.000000       0.989604   \n",
       "\n",
       "        avg_cust_pm  \n",
       "count  19625.000000  \n",
       "mean       0.446117  \n",
       "std        0.114344  \n",
       "min        0.072214  \n",
       "25%        0.366861  \n",
       "50%        0.441426  \n",
       "75%        0.518660  \n",
       "max        0.989604  "
      ]
     },
     "execution_count": 7,
     "metadata": {},
     "output_type": "execute_result"
    }
   ],
   "source": [
    "#Need a target - avg customer profit margin in 2017\n",
    "\n",
    "df['profit_margin'] = (df['list_price'] - df['standard_cost']) / df['list_price']\n",
    "\n",
    "a = {}\n",
    "for i in set(df['customer_id']):\n",
    "    x = df[df['customer_id'] == i]\n",
    "    y = x['profit_margin'].mean()\n",
    "    a[i] = y\n",
    "    \n",
    "df['avg_cust_pm'] = [a[i] for i in df['customer_id']]\n",
    "df.describe()"
   ]
  },
  {
   "cell_type": "code",
   "execution_count": 8,
   "metadata": {},
   "outputs": [
    {
     "data": {
      "text/plain": [
       "Low          5089\n",
       "Above_Avg    5082\n",
       "High         4814\n",
       "Below_Avg    4640\n",
       "Name: Target, dtype: int64"
      ]
     },
     "execution_count": 8,
     "metadata": {},
     "output_type": "execute_result"
    }
   ],
   "source": [
    "df['Target'] = ['Low' if i < 0.37 else 'Below_Avg' if i < 0.44 else 'Above_Avg' if i < 0.52 else 'High' for i in df['avg_cust_pm']]\n",
    "#Check for class balance\n",
    "df.Target.value_counts()"
   ]
  },
  {
   "cell_type": "code",
   "execution_count": 9,
   "metadata": {},
   "outputs": [
    {
     "data": {
      "image/png": "[encoded data removed]",
      "text/plain": [
       "<Figure size 864x720 with 16 Axes>"
      ]
     },
     "metadata": {
      "needs_background": "light"
     },
     "output_type": "display_data"
    }
   ],
   "source": [
    "feat = df\n",
    "feat.hist(figsize=(12,10));"
   ]
  },
  {
   "cell_type": "code",
   "execution_count": 10,
   "metadata": {},
   "outputs": [
    {
     "data": {
      "image/png": "[encoded data removed]",
      "text/plain": [
       "<Figure size 864x720 with 16 Axes>"
      ]
     },
     "metadata": {
      "needs_background": "light"
     },
     "output_type": "display_data"
    }
   ],
   "source": [
    "feat = df[df['gender'].isna()]\n",
    "feat.hist(figsize=(12,10));"
   ]
  },
  {
   "cell_type": "code",
   "execution_count": 11,
   "metadata": {},
   "outputs": [],
   "source": [
    "#remove rows with missing values\n",
    "df = df[~df['gender'].isna()]"
   ]
  },
  {
   "cell_type": "code",
   "execution_count": 12,
   "metadata": {},
   "outputs": [
    {
     "data": {
      "text/html": [
       "<div>\n",
       "<style scoped>\n",
       "    .dataframe tbody tr th:only-of-type {\n",
       "        vertical-align: middle;\n",
       "    }\n",
       "\n",
       "    .dataframe tbody tr th {\n",
       "        vertical-align: top;\n",
       "    }\n",
       "\n",
       "    .dataframe thead th {\n",
       "        text-align: right;\n",
       "    }\n",
       "</style>\n",
       "<table border=\"1\" class=\"dataframe\">\n",
       "  <thead>\n",
       "    <tr style=\"text-align: right;\">\n",
       "      <th></th>\n",
       "      <th>customer_id</th>\n",
       "      <th>online_order</th>\n",
       "      <th>brand</th>\n",
       "      <th>product_line</th>\n",
       "      <th>product_class</th>\n",
       "      <th>product_size</th>\n",
       "      <th>list_price</th>\n",
       "      <th>standard_cost</th>\n",
       "      <th>season</th>\n",
       "      <th>Sale_revenue</th>\n",
       "      <th>...</th>\n",
       "      <th>tenure</th>\n",
       "      <th>age</th>\n",
       "      <th>agebin</th>\n",
       "      <th>postcode</th>\n",
       "      <th>state</th>\n",
       "      <th>property_valuation</th>\n",
       "      <th>metro</th>\n",
       "      <th>profit_margin</th>\n",
       "      <th>avg_cust_pm</th>\n",
       "      <th>Target</th>\n",
       "    </tr>\n",
       "  </thead>\n",
       "  <tbody>\n",
       "    <tr>\n",
       "      <th>0</th>\n",
       "      <td>2950</td>\n",
       "      <td>0.0</td>\n",
       "      <td>Solex</td>\n",
       "      <td>Standard</td>\n",
       "      <td>medium</td>\n",
       "      <td>medium</td>\n",
       "      <td>71.49</td>\n",
       "      <td>53.62</td>\n",
       "      <td>Winter</td>\n",
       "      <td>17.87</td>\n",
       "      <td>...</td>\n",
       "      <td>12.0</td>\n",
       "      <td>42.0</td>\n",
       "      <td>[35, 45)</td>\n",
       "      <td>2765.0</td>\n",
       "      <td>NSW</td>\n",
       "      <td>9.0</td>\n",
       "      <td>1.0</td>\n",
       "      <td>0.249965</td>\n",
       "      <td>0.314974</td>\n",
       "      <td>Low</td>\n",
       "    </tr>\n",
       "    <tr>\n",
       "      <th>1</th>\n",
       "      <td>3120</td>\n",
       "      <td>1.0</td>\n",
       "      <td>Trek Bicycles</td>\n",
       "      <td>Standard</td>\n",
       "      <td>medium</td>\n",
       "      <td>large</td>\n",
       "      <td>2091.47</td>\n",
       "      <td>388.92</td>\n",
       "      <td>Spring</td>\n",
       "      <td>1702.55</td>\n",
       "      <td>...</td>\n",
       "      <td>19.0</td>\n",
       "      <td>61.0</td>\n",
       "      <td>[55, 110)</td>\n",
       "      <td>2500.0</td>\n",
       "      <td>NSW</td>\n",
       "      <td>8.0</td>\n",
       "      <td>1.0</td>\n",
       "      <td>0.814045</td>\n",
       "      <td>0.430668</td>\n",
       "      <td>Below_Avg</td>\n",
       "    </tr>\n",
       "  </tbody>\n",
       "</table>\n",
       "<p>2 rows × 25 columns</p>\n",
       "</div>"
      ],
      "text/plain": [
       "   customer_id  online_order          brand product_line product_class  \\\n",
       "0         2950           0.0          Solex     Standard        medium   \n",
       "1         3120           1.0  Trek Bicycles     Standard        medium   \n",
       "\n",
       "  product_size  list_price  standard_cost  season  Sale_revenue    ...      \\\n",
       "0       medium       71.49          53.62  Winter         17.87    ...       \n",
       "1        large     2091.47         388.92  Spring       1702.55    ...       \n",
       "\n",
       "  tenure   age     agebin postcode state  property_valuation  metro  \\\n",
       "0   12.0  42.0   [35, 45)   2765.0   NSW                 9.0    1.0   \n",
       "1   19.0  61.0  [55, 110)   2500.0   NSW                 8.0    1.0   \n",
       "\n",
       "  profit_margin  avg_cust_pm     Target  \n",
       "0      0.249965     0.314974        Low  \n",
       "1      0.814045     0.430668  Below_Avg  \n",
       "\n",
       "[2 rows x 25 columns]"
      ]
     },
     "execution_count": 12,
     "metadata": {},
     "output_type": "execute_result"
    }
   ],
   "source": [
    "df.head(2)"
   ]
  },
  {
   "cell_type": "code",
   "execution_count": 29,
   "metadata": {},
   "outputs": [],
   "source": [
    "#Chi Squared\n",
    "dfx2 = df.copy()"
   ]
  },
  {
   "cell_type": "code",
   "execution_count": 30,
   "metadata": {},
   "outputs": [
    {
     "data": {
      "text/plain": [
       "Female    9868\n",
       "Male      9253\n",
       "Name: gender, dtype: int64"
      ]
     },
     "execution_count": 30,
     "metadata": {},
     "output_type": "execute_result"
    }
   ],
   "source": [
    "dfx2.gender.value_counts()"
   ]
  },
  {
   "cell_type": "code",
   "execution_count": 31,
   "metadata": {},
   "outputs": [
    {
     "data": {
      "text/plain": [
       "Index(['customer_id', 'online_order', 'brand', 'product_line', 'product_class',\n",
       "       'product_size', 'list_price', 'standard_cost', 'season', 'Sale_revenue',\n",
       "       'gender', 'past_3_years_bike_related_purchases',\n",
       "       'job_industry_category', 'wealth_segment', 'owns_car', 'tenure', 'age',\n",
       "       'agebin', 'postcode', 'state', 'property_valuation', 'metro',\n",
       "       'profit_margin', 'avg_cust_pm', 'Target'],\n",
       "      dtype='object')"
      ]
     },
     "execution_count": 31,
     "metadata": {},
     "output_type": "execute_result"
    }
   ],
   "source": [
    "dfx2.columns"
   ]
  },
  {
   "cell_type": "code",
   "execution_count": 35,
   "metadata": {},
   "outputs": [
    {
     "data": {
      "text/html": [
       "<div>\n",
       "<style scoped>\n",
       "    .dataframe tbody tr th:only-of-type {\n",
       "        vertical-align: middle;\n",
       "    }\n",
       "\n",
       "    .dataframe tbody tr th {\n",
       "        vertical-align: top;\n",
       "    }\n",
       "\n",
       "    .dataframe thead tr th {\n",
       "        text-align: left;\n",
       "    }\n",
       "\n",
       "    .dataframe thead tr:last-of-type th {\n",
       "        text-align: right;\n",
       "    }\n",
       "</style>\n",
       "<table border=\"1\" class=\"dataframe\">\n",
       "  <thead>\n",
       "    <tr>\n",
       "      <th></th>\n",
       "      <th colspan=\"2\" halign=\"left\">Sale_revenue</th>\n",
       "      <th colspan=\"2\" halign=\"left\">age</th>\n",
       "      <th colspan=\"2\" halign=\"left\">agebin</th>\n",
       "      <th colspan=\"2\" halign=\"left\">avg_cust_pm</th>\n",
       "      <th colspan=\"2\" halign=\"left\">brand</th>\n",
       "      <th>...</th>\n",
       "      <th colspan=\"2\" halign=\"left\">season</th>\n",
       "      <th colspan=\"2\" halign=\"left\">standard_cost</th>\n",
       "      <th colspan=\"2\" halign=\"left\">state</th>\n",
       "      <th colspan=\"2\" halign=\"left\">tenure</th>\n",
       "      <th colspan=\"2\" halign=\"left\">wealth_segment</th>\n",
       "    </tr>\n",
       "    <tr>\n",
       "      <th>gender</th>\n",
       "      <th>Female</th>\n",
       "      <th>Male</th>\n",
       "      <th>Female</th>\n",
       "      <th>Male</th>\n",
       "      <th>Female</th>\n",
       "      <th>Male</th>\n",
       "      <th>Female</th>\n",
       "      <th>Male</th>\n",
       "      <th>Female</th>\n",
       "      <th>Male</th>\n",
       "      <th>...</th>\n",
       "      <th>Female</th>\n",
       "      <th>Male</th>\n",
       "      <th>Female</th>\n",
       "      <th>Male</th>\n",
       "      <th>Female</th>\n",
       "      <th>Male</th>\n",
       "      <th>Female</th>\n",
       "      <th>Male</th>\n",
       "      <th>Female</th>\n",
       "      <th>Male</th>\n",
       "    </tr>\n",
       "    <tr>\n",
       "      <th>Target</th>\n",
       "      <th></th>\n",
       "      <th></th>\n",
       "      <th></th>\n",
       "      <th></th>\n",
       "      <th></th>\n",
       "      <th></th>\n",
       "      <th></th>\n",
       "      <th></th>\n",
       "      <th></th>\n",
       "      <th></th>\n",
       "      <th></th>\n",
       "      <th></th>\n",
       "      <th></th>\n",
       "      <th></th>\n",
       "      <th></th>\n",
       "      <th></th>\n",
       "      <th></th>\n",
       "      <th></th>\n",
       "      <th></th>\n",
       "      <th></th>\n",
       "      <th></th>\n",
       "    </tr>\n",
       "  </thead>\n",
       "  <tbody>\n",
       "    <tr>\n",
       "      <th>Above_Avg</th>\n",
       "      <td>2693</td>\n",
       "      <td>2284</td>\n",
       "      <td>2693</td>\n",
       "      <td>2284</td>\n",
       "      <td>2693</td>\n",
       "      <td>2284</td>\n",
       "      <td>2693</td>\n",
       "      <td>2284</td>\n",
       "      <td>2693</td>\n",
       "      <td>2284</td>\n",
       "      <td>...</td>\n",
       "      <td>2693</td>\n",
       "      <td>2284</td>\n",
       "      <td>2693</td>\n",
       "      <td>2284</td>\n",
       "      <td>2693</td>\n",
       "      <td>2284</td>\n",
       "      <td>2693</td>\n",
       "      <td>2284</td>\n",
       "      <td>2693</td>\n",
       "      <td>2284</td>\n",
       "    </tr>\n",
       "    <tr>\n",
       "      <th>Below_Avg</th>\n",
       "      <td>2211</td>\n",
       "      <td>2300</td>\n",
       "      <td>2211</td>\n",
       "      <td>2300</td>\n",
       "      <td>2211</td>\n",
       "      <td>2300</td>\n",
       "      <td>2211</td>\n",
       "      <td>2300</td>\n",
       "      <td>2211</td>\n",
       "      <td>2300</td>\n",
       "      <td>...</td>\n",
       "      <td>2211</td>\n",
       "      <td>2300</td>\n",
       "      <td>2211</td>\n",
       "      <td>2300</td>\n",
       "      <td>2211</td>\n",
       "      <td>2300</td>\n",
       "      <td>2211</td>\n",
       "      <td>2300</td>\n",
       "      <td>2211</td>\n",
       "      <td>2300</td>\n",
       "    </tr>\n",
       "    <tr>\n",
       "      <th>High</th>\n",
       "      <td>2488</td>\n",
       "      <td>2205</td>\n",
       "      <td>2488</td>\n",
       "      <td>2205</td>\n",
       "      <td>2488</td>\n",
       "      <td>2205</td>\n",
       "      <td>2488</td>\n",
       "      <td>2205</td>\n",
       "      <td>2488</td>\n",
       "      <td>2205</td>\n",
       "      <td>...</td>\n",
       "      <td>2488</td>\n",
       "      <td>2205</td>\n",
       "      <td>2488</td>\n",
       "      <td>2205</td>\n",
       "      <td>2488</td>\n",
       "      <td>2205</td>\n",
       "      <td>2488</td>\n",
       "      <td>2205</td>\n",
       "      <td>2488</td>\n",
       "      <td>2205</td>\n",
       "    </tr>\n",
       "    <tr>\n",
       "      <th>Low</th>\n",
       "      <td>2476</td>\n",
       "      <td>2464</td>\n",
       "      <td>2476</td>\n",
       "      <td>2464</td>\n",
       "      <td>2476</td>\n",
       "      <td>2464</td>\n",
       "      <td>2476</td>\n",
       "      <td>2464</td>\n",
       "      <td>2476</td>\n",
       "      <td>2464</td>\n",
       "      <td>...</td>\n",
       "      <td>2476</td>\n",
       "      <td>2464</td>\n",
       "      <td>2476</td>\n",
       "      <td>2464</td>\n",
       "      <td>2476</td>\n",
       "      <td>2464</td>\n",
       "      <td>2476</td>\n",
       "      <td>2464</td>\n",
       "      <td>2476</td>\n",
       "      <td>2464</td>\n",
       "    </tr>\n",
       "  </tbody>\n",
       "</table>\n",
       "<p>4 rows × 46 columns</p>\n",
       "</div>"
      ],
      "text/plain": [
       "          Sale_revenue          age       agebin       avg_cust_pm        \\\n",
       "gender          Female  Male Female  Male Female  Male      Female  Male   \n",
       "Target                                                                     \n",
       "Above_Avg         2693  2284   2693  2284   2693  2284        2693  2284   \n",
       "Below_Avg         2211  2300   2211  2300   2211  2300        2211  2300   \n",
       "High              2488  2205   2488  2205   2488  2205        2488  2205   \n",
       "Low               2476  2464   2476  2464   2476  2464        2476  2464   \n",
       "\n",
       "           brand        ...  season       standard_cost        state        \\\n",
       "gender    Female  Male  ...  Female  Male        Female  Male Female  Male   \n",
       "Target                  ...                                                  \n",
       "Above_Avg   2693  2284  ...    2693  2284          2693  2284   2693  2284   \n",
       "Below_Avg   2211  2300  ...    2211  2300          2211  2300   2211  2300   \n",
       "High        2488  2205  ...    2488  2205          2488  2205   2488  2205   \n",
       "Low         2476  2464  ...    2476  2464          2476  2464   2476  2464   \n",
       "\n",
       "          tenure       wealth_segment        \n",
       "gender    Female  Male         Female  Male  \n",
       "Target                                       \n",
       "Above_Avg   2693  2284           2693  2284  \n",
       "Below_Avg   2211  2300           2211  2300  \n",
       "High        2488  2205           2488  2205  \n",
       "Low         2476  2464           2476  2464  \n",
       "\n",
       "[4 rows x 46 columns]"
      ]
     },
     "execution_count": 35,
     "metadata": {},
     "output_type": "execute_result"
    }
   ],
   "source": [
    "dfx2.pivot_table(index='Target', columns='gender', aggfunc='count')"
   ]
  },
  {
   "cell_type": "code",
   "execution_count": 38,
   "metadata": {},
   "outputs": [
    {
     "data": {
      "text/html": [
       "<div>\n",
       "<style scoped>\n",
       "    .dataframe tbody tr th:only-of-type {\n",
       "        vertical-align: middle;\n",
       "    }\n",
       "\n",
       "    .dataframe tbody tr th {\n",
       "        vertical-align: top;\n",
       "    }\n",
       "\n",
       "    .dataframe thead th {\n",
       "        text-align: right;\n",
       "    }\n",
       "</style>\n",
       "<table border=\"1\" class=\"dataframe\">\n",
       "  <thead>\n",
       "    <tr style=\"text-align: right;\">\n",
       "      <th></th>\n",
       "      <th>Female</th>\n",
       "      <th>Male</th>\n",
       "    </tr>\n",
       "    <tr>\n",
       "      <th>Target</th>\n",
       "      <th></th>\n",
       "      <th></th>\n",
       "    </tr>\n",
       "  </thead>\n",
       "  <tbody>\n",
       "    <tr>\n",
       "      <th>Above_Avg</th>\n",
       "      <td>2693</td>\n",
       "      <td>2284</td>\n",
       "    </tr>\n",
       "    <tr>\n",
       "      <th>Below_Avg</th>\n",
       "      <td>2211</td>\n",
       "      <td>2300</td>\n",
       "    </tr>\n",
       "    <tr>\n",
       "      <th>High</th>\n",
       "      <td>2488</td>\n",
       "      <td>2205</td>\n",
       "    </tr>\n",
       "    <tr>\n",
       "      <th>Low</th>\n",
       "      <td>2476</td>\n",
       "      <td>2464</td>\n",
       "    </tr>\n",
       "  </tbody>\n",
       "</table>\n",
       "</div>"
      ],
      "text/plain": [
       "           Female  Male\n",
       "Target                 \n",
       "Above_Avg    2693  2284\n",
       "Below_Avg    2211  2300\n",
       "High         2488  2205\n",
       "Low          2476  2464"
      ]
     },
     "execution_count": 38,
     "metadata": {},
     "output_type": "execute_result"
    }
   ],
   "source": [
    "dfx = pd.DataFrame({'Target': ['Above_Avg', 'Below_Avg', 'High', 'Low'], 'Female': [2693,2211,2488,2476], 'Male':[2284,2300,2205,2464]})\n",
    "dfx = dfx.set_index('Target')\n",
    "\n",
    "dfx"
   ]
  },
  {
   "cell_type": "code",
   "execution_count": 40,
   "metadata": {},
   "outputs": [
    {
     "name": "stdout",
     "output_type": "stream",
     "text": [
      "\n",
      "Chi-squared test for independence\n",
      "\n",
      "Test              Df    Chi-square      P-value\n",
      "--------------  ----  ------------  -----------\n",
      "Pearson            3       32.7148  3.69919e-07\n",
      "Log-likelihood     3       32.7259  3.67922e-07\n",
      "\n",
      "\n",
      "Expected frequency counts\n",
      "\n",
      "      Female     Male\n",
      "--  --------  -------\n",
      " 0   2568.54  2408.46\n",
      " 1   2328.04  2182.96\n",
      " 2   2421.97  2271.03\n",
      " 3   2549.44  2390.56\n",
      "\n"
     ]
    }
   ],
   "source": [
    "res = stat()\n",
    "res.chisq(df=dfx)\n",
    "print(res.summary)\n",
    "print(res.expected_df)"
   ]
  },
  {
   "cell_type": "code",
   "execution_count": null,
   "metadata": {},
   "outputs": [],
   "source": []
  },
  {
   "cell_type": "code",
   "execution_count": null,
   "metadata": {},
   "outputs": [],
   "source": []
  },
  {
   "cell_type": "code",
   "execution_count": null,
   "metadata": {},
   "outputs": [],
   "source": []
  },
  {
   "cell_type": "code",
   "execution_count": null,
   "metadata": {},
   "outputs": [],
   "source": [
    "data = df2.join(df4, how='left', on='customer_id', rsuffix='_add')\n",
    "len(data)"
   ]
  },
  {
   "cell_type": "code",
   "execution_count": null,
   "metadata": {},
   "outputs": [],
   "source": [
    "df = df.drop_duplicates(['customer_id'])"
   ]
  },
  {
   "cell_type": "code",
   "execution_count": null,
   "metadata": {},
   "outputs": [],
   "source": [
    "data = data.merge(df[['customer_id', 'avg_cust_pm']], on='customer_id', how='left')\n",
    "len(data)"
   ]
  },
  {
   "cell_type": "code",
   "execution_count": null,
   "metadata": {},
   "outputs": [],
   "source": [
    "data.iloc[0]"
   ]
  },
  {
   "cell_type": "code",
   "execution_count": null,
   "metadata": {},
   "outputs": [],
   "source": [
    "data1 = data[['gender', 'past_3_years_bike_related_purchases', 'job_industry_category', 'wealth_segment', \n",
    "              'owns_car', 'tenure', 'agebin', 'state', 'property_valuation', 'metro', 'avg_cust_pm']]"
   ]
  },
  {
   "cell_type": "code",
   "execution_count": null,
   "metadata": {},
   "outputs": [],
   "source": [
    "#Set dummy variables for categorical data and check for multicolinearity\n",
    "\n",
    "# Of those, these are all of the variables that are categorical.\n",
    "a = ['gender', 'job_industry_category', 'wealth_segment', 'owns_car', 'agebin', 'state', 'metro']\n",
    "\n",
    "#Generating a dictionary where the key is the column name and the value\n",
    "#is a DF of dummy variable columns, dropping the first instance to avoid\n",
    "#multicollinearity\n",
    "b = {}\n",
    "for i in a:\n",
    "    b[i] = pd.get_dummies(data1[i], prefix=i, drop_first=True)\n",
    "\n",
    "len(data1)"
   ]
  },
  {
   "cell_type": "code",
   "execution_count": null,
   "metadata": {},
   "outputs": [],
   "source": [
    "data1 = data1.drop(a, axis=1)\n",
    "len(data1)"
   ]
  },
  {
   "cell_type": "code",
   "execution_count": null,
   "metadata": {},
   "outputs": [],
   "source": [
    "len(data1)"
   ]
  },
  {
   "cell_type": "code",
   "execution_count": null,
   "metadata": {},
   "outputs": [],
   "source": [
    "for key in b:\n",
    "    data1 = pd.merge(data1, b[key],\n",
    "                     how='inner', left_on=data1.index,\n",
    "                     right_on = b[key].index)\n",
    "    data1 = data1.drop('key_0', axis=1)\n",
    "\n",
    "print(len(data1))\n",
    "#view the columns to ensure I completed the dummy columns correctly\n",
    "data1.columns"
   ]
  },
  {
   "cell_type": "code",
   "execution_count": null,
   "metadata": {},
   "outputs": [],
   "source": [
    "correlation = abs(round(data1.corr(), 2))\n",
    "f, ax = plt.subplots(figsize=(25,25))\n",
    "sns.heatmap(correlation, annot = True, square=True, cmap =sns.diverging_palette(220, 10, as_cmap=True))\n",
    "plt.title('Correlation Heatmap',fontweight='bold',fontsize=15)\n",
    "plt.show();"
   ]
  },
  {
   "cell_type": "code",
   "execution_count": null,
   "metadata": {},
   "outputs": [],
   "source": [
    "data.columns"
   ]
  },
  {
   "cell_type": "code",
   "execution_count": null,
   "metadata": {},
   "outputs": [],
   "source": [
    "data2 = data[['avg_cust_pm', 'gender', 'wealth_segment', 'owns_car', 'agebin', 'state', 'property_valuation', 'metro']]\n",
    "data2 = data2[~data2['avg_cust_pm'].isna()]"
   ]
  },
  {
   "cell_type": "code",
   "execution_count": null,
   "metadata": {},
   "outputs": [],
   "source": [
    "kp = KPrototypes(n_clusters=4, init='Huang', n_init=15, verbose=1)\n",
    "kpclusters = kp.fit_predict(data2, categorical=[1,2,3,4,5,6,7])\n",
    "#km = KModes(n_clusters=6, init='Huang', n_init=15, verbose=1)\n",
    "#clusters = km.fit_predict(data2)"
   ]
  },
  {
   "cell_type": "code",
   "execution_count": null,
   "metadata": {},
   "outputs": [],
   "source": [
    "print(kp.cluster_centroids_)"
   ]
  },
  {
   "cell_type": "code",
   "execution_count": null,
   "metadata": {},
   "outputs": [],
   "source": [
    "print(km.cluster_centroids_)"
   ]
  },
  {
   "cell_type": "code",
   "execution_count": null,
   "metadata": {},
   "outputs": [],
   "source": []
  },
  {
   "cell_type": "code",
   "execution_count": null,
   "metadata": {},
   "outputs": [],
   "source": [
    "data = df.copy()"
   ]
  },
  {
   "cell_type": "code",
   "execution_count": null,
   "metadata": {},
   "outputs": [],
   "source": [
    "#Set dummy variables for categorical data and check for multicolinearity\n",
    "\n",
    "# Of those, these are all of the variables that are categorical.\n",
    "a = ['gender', 'wealth_segment', 'owns_car', 'state', 'property_valuation', 'agebin', 'metro', 'online_order', 'brand', \n",
    "     'product_line', 'product_class', 'product_size', 'season']\n",
    "\n",
    "#Generating a dictionary where the key is the column name and the value\n",
    "#is a DF of dummy variable columns, dropping the first instance to avoid\n",
    "#multicollinearity\n",
    "b = {}\n",
    "for i in a:\n",
    "    b[i] = pd.get_dummies(df[i], prefix=i, drop_first=True)"
   ]
  },
  {
   "cell_type": "code",
   "execution_count": null,
   "metadata": {},
   "outputs": [],
   "source": [
    "#drop the columns I created dummys for\n",
    "df = df.drop(a, axis=1)"
   ]
  },
  {
   "cell_type": "code",
   "execution_count": null,
   "metadata": {},
   "outputs": [],
   "source": [
    "#merging the dummy DFs to the original data frame and dropping the index column\n",
    "#from each merge\n",
    "for key in b:\n",
    "    df = pd.merge(df, b[key],\n",
    "                 how='left',\n",
    "                 left_on=df.index,\n",
    "                 right_on = b[key].index)\n",
    "    df = df.drop('key_0', axis=1)\n",
    "\n",
    "print(len(df))\n",
    "#view the columns to ensure I completed the dummy columns correctly\n",
    "df.columns"
   ]
  },
  {
   "cell_type": "code",
   "execution_count": null,
   "metadata": {},
   "outputs": [],
   "source": [
    "correlation = abs(round(df.corr(), 2))\n",
    "f, ax = plt.subplots(figsize=(25,25))\n",
    "sns.heatmap(correlation, annot = True, square=True, cmap =sns.diverging_palette(220, 10, as_cmap=True))\n",
    "plt.title('Correlation Heatmap',fontweight='bold',fontsize=15)\n",
    "plt.show();"
   ]
  },
  {
   "cell_type": "code",
   "execution_count": null,
   "metadata": {},
   "outputs": [],
   "source": [
    "#Sale Revenue is the only variable the crosses the standard 0.75 threshold.\n",
    "df = df.drop(['Sale_revenue', 'product_line_Standard'], axis=1)"
   ]
  },
  {
   "cell_type": "code",
   "execution_count": null,
   "metadata": {},
   "outputs": [],
   "source": [
    "df['past_3_years_bike_related_purchases'] = df['past_3_years_bike_related_purchases'].astype('float')"
   ]
  },
  {
   "cell_type": "code",
   "execution_count": null,
   "metadata": {},
   "outputs": [],
   "source": [
    "#df['postcode'] = df.postcode.astype('str')"
   ]
  },
  {
   "cell_type": "code",
   "execution_count": null,
   "metadata": {},
   "outputs": [],
   "source": [
    "df.info()"
   ]
  },
  {
   "cell_type": "code",
   "execution_count": null,
   "metadata": {},
   "outputs": [],
   "source": [
    "df_lr = df[['Target', 'past_3_years_bike_related_purchases', 'tenure', 'age', 'gender_Male', \n",
    "            'wealth_segment_High Net Worth', 'wealth_segment_Mass Customer', 'owns_car_Yes', 'state_QLD',\n",
    "            'state_VIC', 'property_valuation_2.0', 'property_valuation_3.0', 'property_valuation_4.0', \n",
    "            'property_valuation_5.0', 'property_valuation_6.0', 'property_valuation_7.0', 'property_valuation_8.0', \n",
    "            'property_valuation_9.0', 'property_valuation_10.0', 'property_valuation_11.0', 'property_valuation_12.0', \n",
    "            'agebin_[25, 35)', 'agebin_[35, 45)', 'agebin_[45, 55)', 'agebin_[55, 110)', 'metro_1.0', \n",
    "            'online_order_1.0', 'brand_Norco Bicycles', 'brand_OHM Cycles', 'brand_Solex', 'brand_Trek Bicycles', \n",
    "            'brand_WeareA2B', 'product_line_Road', 'product_line_Touring', 'product_class_low', 'product_class_medium',\n",
    "            'product_size_medium', 'product_size_small', 'season_Spring', 'season_Summer', 'season_Winter']]"
   ]
  },
  {
   "cell_type": "code",
   "execution_count": null,
   "metadata": {},
   "outputs": [],
   "source": [
    "#from sklearn import svm, tree\n",
    "#from sklearn.decomposition import PCA\n",
    "#from sklearn.ensemble import BaggingClassifier, RandomForestClassifier, AdaBoostClassifier\n",
    "from sklearn.linear_model import LogisticRegression\n",
    "from sklearn.metrics import accuracy_score, roc_curve, auc, confusion_matrix\n",
    "from sklearn.metrics import classification_report, roc_auc_score, recall_score, precision_score\n",
    "from sklearn.model_selection import train_test_split, GridSearchCV, cross_val_score\n",
    "#from sklearn.pipeline import Pipeline, make_pipeline\n",
    "#from sklearn.preprocessing import LabelEncoder, StandardScaler\n",
    "#from sklearn.tree import DecisionTreeClassifier, export_graphviz\n",
    "#from xgboost import XGBClassifier"
   ]
  },
  {
   "cell_type": "code",
   "execution_count": null,
   "metadata": {},
   "outputs": [],
   "source": [
    "df_lr = df_lr.dropna()\n",
    "len(df_lr)"
   ]
  },
  {
   "cell_type": "code",
   "execution_count": null,
   "metadata": {},
   "outputs": [],
   "source": [
    "y = df_lr.Target\n",
    "X = df_lr.drop(['Target'], axis=1)\n",
    "\n",
    "print(len(y))\n",
    "print(len(X))"
   ]
  },
  {
   "cell_type": "code",
   "execution_count": null,
   "metadata": {},
   "outputs": [],
   "source": [
    "#X = X.reset_index()\n",
    "features = [i for i in X.columns]\n",
    "\n",
    "#Here I am using a Standard Scaler to scale the continuous varaibles in the data.\n",
    "X = StandardScaler().fit_transform(X)\n",
    "#b = pd.DataFrame(data=a, columns=features)\n",
    "#X = X.drop(features, axis=1)\n",
    "#X = X.merge(b, left_index=True, right_index=True)\n",
    "#X = X.set_index('encounter_id')\n",
    "\n",
    "print(len(y))\n",
    "print(len(X))"
   ]
  },
  {
   "cell_type": "code",
   "execution_count": null,
   "metadata": {},
   "outputs": [],
   "source": [
    "X_train, X_test, y_train, y_test = train_test_split(X, y, test_size=0.25, random_state=123)\n",
    "\n",
    "print(y_train.value_counts())\n",
    "\n",
    "print(y_test.value_counts())"
   ]
  },
  {
   "cell_type": "code",
   "execution_count": null,
   "metadata": {},
   "outputs": [],
   "source": [
    "lrX_train = X_train\n",
    "lrX_test = X_test\n",
    "lry_train = y_train\n",
    "lry_test = y_test"
   ]
  },
  {
   "cell_type": "code",
   "execution_count": null,
   "metadata": {},
   "outputs": [],
   "source": [
    "logreg = LogisticRegression(fit_intercept=False, C=1e12, solver='newton-cg')\n",
    "model_log = logreg.fit(lrX_train, lry_train)\n",
    "print(model_log)\n",
    "\n",
    "#setting the predicted train and test sets\n",
    "lry_hat_train = logreg.predict(lrX_train)\n",
    "lry_hat_test = logreg.predict(lrX_test)\n",
    "\n",
    "#because the target is currently set to 'Readmit' and 'No_readmit' I need\n",
    "#to code them as 0 and 1.\n",
    "lry_train = np.array([0 if i == 'High' else 1 if i == 'Above_Avg' else 2 if i == 'Below_Avg' else 3 for i in lry_train])\n",
    "lry_hat_train = np.array([0 if i == 'High' else 1 if i == 'Above_Avg' else 2 if i == 'Below_Avg' else 3 for i in lry_hat_train])\n",
    "\n",
    "\n",
    "#Calculate the residuals for the training set\n",
    "residuals = np.abs(lry_train - lry_hat_train)\n",
    "print('------------------------------------\\tTraining Accuracy')\n",
    "print(pd.Series(residuals).value_counts())\n",
    "print(pd.Series(residuals).value_counts(normalize=True))\n",
    "\n",
    "\n",
    "lry_test = np.array([0 if i == 'High' else 1 if i == 'Above_Avg' else 2 if i == 'Below_Avg' else 3 for i in lry_test])\n",
    "lry_hat_test = np.array([0 if i == 'High' else 1 if i == 'Above_Avg' else 2 if i == 'Below_Avg' else 3 for i in lry_hat_test])\n",
    "\n",
    "#Calculate the residuals for the testing set\n",
    "residuals = np.abs(lry_test - lry_hat_test)\n",
    "print('------------------------------------\\tTesting Accuracy')\n",
    "print(pd.Series(residuals).value_counts())\n",
    "print(pd.Series(residuals).value_counts(normalize=True))"
   ]
  },
  {
   "cell_type": "code",
   "execution_count": null,
   "metadata": {},
   "outputs": [],
   "source": [
    "def plot_confusion_matrix(cm, classes,\n",
    "                          normalize=False,\n",
    "                          title='Confusion matrix',\n",
    "                          cmap=plt.cm.Blues):\n",
    "    \n",
    "    # Check if normalize is set to True\n",
    "    # If so, normalize the raw confusion matrix before visualizing\n",
    "    if normalize:\n",
    "        cm = cm.astype('float') / cm.sum(axis=1)[:, np.newaxis]\n",
    "        print(\"Normalized confusion matrix\")\n",
    "    else:\n",
    "        print('Confusion matrix, without normalization')\n",
    "\n",
    "    print(cm)\n",
    "    \n",
    "    #This generates a 2D display\n",
    "    plt.imshow(cm, cmap=cmap)\n",
    "    \n",
    "    # Add title and axis labels \n",
    "    plt.title(title) \n",
    "    plt.ylabel('True label') \n",
    "    plt.xlabel('Predicted label')\n",
    "    \n",
    "    # Add appropriate axis scales\n",
    "    tick_marks = np.arange(len(classes))\n",
    "    plt.xticks(tick_marks, classes, rotation=45)\n",
    "    plt.yticks(tick_marks, classes)\n",
    "    \n",
    "    # Text formatting\n",
    "    fmt = '.2f' if normalize else 'd'\n",
    "    # Add labels to each cell\n",
    "    thresh = cm.max() / 2.\n",
    "    # Here I iterate through the confusion matrix and append labels to our visualization \n",
    "    for i, j in itertools.product(range(cm.shape[0]), range(cm.shape[1])):\n",
    "        plt.text(j, i, format(cm[i, j], fmt),\n",
    "                 horizontalalignment='center',\n",
    "                 color='white' if cm[i, j] > thresh else 'black')\n",
    "    \n",
    "    # Add a legend\n",
    "    plt.colorbar()\n",
    "    plt.show()"
   ]
  },
  {
   "cell_type": "code",
   "execution_count": null,
   "metadata": {},
   "outputs": [],
   "source": [
    "import itertools\n",
    "class_names = set(y) \n",
    "\n",
    "#generate values for the CM\n",
    "cnf_mat_logreg = confusion_matrix(lry_test, lry_hat_test) \n",
    "\n",
    "#plot\n",
    "plot_confusion_matrix(cnf_mat_logreg, classes=class_names, normalize=True)"
   ]
  },
  {
   "cell_type": "code",
   "execution_count": null,
   "metadata": {},
   "outputs": [],
   "source": []
  },
  {
   "cell_type": "code",
   "execution_count": null,
   "metadata": {},
   "outputs": [],
   "source": [
    "#gender, industry, wealth segment, owns car, tenure, state, postcode, prop_val, age/agebin, metro"
   ]
  },
  {
   "cell_type": "code",
   "execution_count": null,
   "metadata": {},
   "outputs": [],
   "source": [
    "df = df[['Target', 'past_3_years_bike_related_purchases', 'tenure', 'age', 'gender_Male', \n",
    "         'wealth_segment_High Net Worth', 'wealth_segment_Mass Customer', 'owns_car_Yes', 'state_QLD', 'state_VIC', \n",
    "         'property_valuation_2.0', 'property_valuation_3.0', 'property_valuation_4.0', 'property_valuation_5.0', 'property_valuation_6.0', \n",
    "         'property_valuation_7.0', 'property_valuation_8.0', 'property_valuation_9.0', 'property_valuation_10.0', 'property_valuation_11.0',\n",
    "         'property_valuation_12.0', 'agebin_[25, 35)', 'agebin_[35, 45)', 'agebin_[45, 55)', 'agebin_[55, 110)', 'metro_1.0' ]]"
   ]
  },
  {
   "cell_type": "code",
   "execution_count": null,
   "metadata": {},
   "outputs": [],
   "source": [
    "df = df.dropna()\n",
    "y = df['Target']\n",
    "X = df.drop(['Target'], axis=1)\n",
    "scaler = StandardScaler()\n",
    "scaled_df = scaler.fit_transform(X)"
   ]
  },
  {
   "cell_type": "code",
   "execution_count": null,
   "metadata": {},
   "outputs": [],
   "source": [
    "scaled_k_means = KMeans(n_clusters=2)\n",
    "scaled_k_means.fit(scaled_df)\n",
    "scaled_preds = scaled_k_means.predict(scaled_df)"
   ]
  },
  {
   "cell_type": "code",
   "execution_count": null,
   "metadata": {},
   "outputs": [],
   "source": [
    "from sklearn.metrics import adjusted_rand_score\n",
    "adjusted_rand_score(y, scaled_preds)"
   ]
  },
  {
   "cell_type": "code",
   "execution_count": null,
   "metadata": {},
   "outputs": [],
   "source": [
    "pca = PCA(n_components=6)\n",
    "pca_df = pca.fit_transform(scaled_df)"
   ]
  },
  {
   "cell_type": "code",
   "execution_count": null,
   "metadata": {},
   "outputs": [],
   "source": [
    "np.cumsum(pca.explained_variance_ratio_)"
   ]
  },
  {
   "cell_type": "code",
   "execution_count": null,
   "metadata": {},
   "outputs": [],
   "source": [
    "pca_k_means = KMeans(n_clusters=4)\n",
    "pca_k_means.fit(pca_df)\n",
    "pca_preds = pca_k_means.predict(pca_df)\n",
    "\n",
    "adjusted_rand_score(y, pca_preds)"
   ]
  },
  {
   "cell_type": "code",
   "execution_count": null,
   "metadata": {},
   "outputs": [],
   "source": [
    "len(df)"
   ]
  },
  {
   "cell_type": "code",
   "execution_count": null,
   "metadata": {},
   "outputs": [],
   "source": []
  }
 ],
 "metadata": {
  "kernelspec": {
   "display_name": "Python 3",
   "language": "python",
   "name": "python3"
  },
  "language_info": {
   "codemirror_mode": {
    "name": "ipython",
    "version": 3
   },
   "file_extension": ".py",
   "mimetype": "text/x-python",
   "name": "python",
   "nbconvert_exporter": "python",
   "pygments_lexer": "ipython3",
   "version": "3.7.1"
  }
 },
 "nbformat": 4,
 "nbformat_minor": 2
}
